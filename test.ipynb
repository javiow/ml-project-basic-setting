{
 "cells": [
  {
   "cell_type": "markdown",
   "metadata": {},
   "source": [
    "## Basic Modules"
   ]
  },
  {
   "cell_type": "code",
   "execution_count": null,
   "metadata": {},
   "outputs": [],
   "source": [
    "### Utils\n",
    "import os\n",
    "import glob\n",
    "import re\n",
    "import warnings\n",
    "import joblib\n",
    "import pandas as pd\n",
    "import numpy as np\n",
    "import datetime as dt\n",
    "warnings.filterwarnings('ignore')\n",
    "pd.options.display.float_format = '{:.2f}'.format\n",
    "pd.set_option('display.max_rows', 100)\n",
    "pd.set_option('display.max_columns', 100)\n",
    "pd.set_option('display.width', 1000)\n",
    "\n",
    "### Visualizations\n",
    "import matplotlib.pyplot as plt\n",
    "import seaborn as sns\n",
    "import plotly as py\n",
    "import plotly.graph_objects as go\n",
    "import plotly.express as px\n",
    "import plotly.offline as pyo\n",
    "from plotly.subplots import make_subplots\n",
    "from chart_studio.plotly import plot, iplot\n",
    "plt.style.use('fivethirtyeight')\n",
    "\n",
    "### ML/DL Models\n",
    "import tensorflow as tf\n",
    "from xgboost import XGBRegressor, XGBClassifier\n",
    "from lightgbm import LGBMRegressor, LGBMClassifier\n",
    "\n",
    "### Data preprocessing\n",
    "from sklearn.model_selection import train_test_split\n",
    "from sklearn.preprocessing import MinMaxScaler, StandardScaler\n",
    "from sklearn.preprocessing import LabelEncoder\n"
   ]
  },
  {
   "cell_type": "markdown",
   "metadata": {},
   "source": [
    "### Install W&B(Experiment managing), WIT(Model analysis) and Load"
   ]
  },
  {
   "cell_type": "code",
   "execution_count": null,
   "metadata": {},
   "outputs": [],
   "source": [
    "!pip install wandb -q\n",
    "!pip install witwidget"
   ]
  },
  {
   "cell_type": "code",
   "execution_count": null,
   "metadata": {},
   "outputs": [],
   "source": [
    "import wandb\n",
    "from witwidget.notebook.visualization import WitConfigBuilder\n",
    "from witwidget.notebook.visualization import WitWidget"
   ]
  },
  {
   "cell_type": "markdown",
   "metadata": {},
   "source": []
  },
  {
   "cell_type": "markdown",
   "metadata": {},
   "source": [
    "## W & B"
   ]
  },
  {
   "cell_type": "code",
   "execution_count": null,
   "metadata": {},
   "outputs": [],
   "source": [
    "wandb.login()"
   ]
  },
  {
   "cell_type": "markdown",
   "metadata": {},
   "source": [
    "### Basic"
   ]
  },
  {
   "cell_type": "code",
   "execution_count": null,
   "metadata": {},
   "outputs": [],
   "source": [
    "# 초기화 (실험관리 시작)\n",
    "wandb.init(\n",
    "    project=\"wandb test\",\n",
    "    config={\n",
    "        'estimators':99999,\n",
    "        'learning_rate':0.01\n",
    "    }\n",
    ")\n",
    "\n",
    "# 하이퍼 파라미터 지정\n",
    "config = wandb.config\n",
    "params = {'estimators':config.estimators, 'learning_rate':config.learning_rate}\n",
    "\n",
    "# 모델 학습 및 예측\n",
    "model = XGBRegressor(params**)\n",
    "model.fit(x_train, y_train)\n",
    "y_pred = model.predict(x_test)\n",
    "accuracy = accuracy_func(y_test, y_pred)\n",
    "\n",
    "# 정확도 로깅\n",
    "wandb.log({'accuracy':accuracy})\n",
    "wandb.finish()"
   ]
  },
  {
   "cell_type": "markdown",
   "metadata": {},
   "source": [
    "### HPO(Hyper Parameter Optimization)"
   ]
  },
  {
   "cell_type": "code",
   "execution_count": null,
   "metadata": {},
   "outputs": [],
   "source": [
    "# 하이퍼 파라미터 튜닝할 파라미터 지정\n",
    "sweep_config = {\n",
    "    # method: random or grid\n",
    "    'method':'grid',\n",
    "    'parameters':{\n",
    "        'max_depth': {\n",
    "            'values':[4, 6, 8, 10]\n",
    "        },\n",
    "        'min_child_weight':{\n",
    "            'values':[1, 3, 5]\n",
    "        }\n",
    "    }\n",
    "}\n",
    "\n",
    "# sweep id 정보 입력\n",
    "sweep_id = wandb.sweep(project='wandb hpo test', sweep=sweep_config)\n",
    "\n",
    "# train하는 함수 작성\n",
    "def train():\n",
    "\n",
    "    config_defaults = {\n",
    "        'estimators':99999,\n",
    "        'learning_rate':0.01,\n",
    "        'seed':2201\n",
    "    }\n",
    "\n",
    "    wandb.init(\n",
    "        project=\"wandb sweep\",\n",
    "        config=config_defaults,\n",
    "        magic=True\n",
    "    )\n",
    "    # sweep 하는 동안에는 default 파라미터가 덮어쓰기됨\n",
    "    config = wandb.config\n",
    "\n",
    "    # 하이퍼 파라미터 지정\n",
    "    config = wandb.config\n",
    "    params = {\n",
    "        'estimators':config.estimators, \n",
    "        'learning_rate':config.learning_rate\n",
    "    }\n",
    "\n",
    "    # 모델 학습 및 예측\n",
    "    model = XGBRegressor(params**)\n",
    "    model.fit(x_train, y_train)\n",
    "    y_pred = model.predict(x_test)\n",
    "    accuracy = accuracy_func(y_test, y_pred)\n",
    "\n",
    "    # 정확도 로깅\n",
    "    wandb.log({'accuracy':accuracy})\n",
    "\n",
    "# wandb agent으로 하이퍼 파라미터 튜닝 실행\n",
    "wandb.agent(sweep_id, function=train)"
   ]
  },
  {
   "cell_type": "markdown",
   "metadata": {},
   "source": []
  },
  {
   "cell_type": "markdown",
   "metadata": {},
   "source": [
    "## WIT(What-If Tool)"
   ]
  },
  {
   "cell_type": "code",
   "execution_count": null,
   "metadata": {},
   "outputs": [],
   "source": [
    "# Creates a tf feature spec from the dataframe and columns specified\n",
    "def create_feature_spec(df, columns=None):\n",
    "    feature_spec = {}\n",
    "    if columns == None:\n",
    "        columns = df.columns.values.tolist()\n",
    "    for f in columns:\n",
    "        if df[f].dtype is np.dtype(np.int64):\n",
    "            feature_spec[f] = tf.io.FixedLenFeature(shape=(), dtype=tf.int64)\n",
    "        elif df[f].dtype is np.dtype(np.float64):\n",
    "            feature_spec[f] = tf.io.FixedLenFeature(shape=(), dtype=tf.float32)\n",
    "        else:\n",
    "            feature_spec[f] = tf.io.FixedLenFeature(shape=(), dtype=tf.string)\n",
    "    return feature_spec"
   ]
  },
  {
   "cell_type": "code",
   "execution_count": null,
   "metadata": {},
   "outputs": [],
   "source": [
    "feature_spec = create_feature_spec(train)"
   ]
  },
  {
   "cell_type": "code",
   "execution_count": null,
   "metadata": {},
   "outputs": [],
   "source": [
    "# regression\n",
    "config_builder = WitConfigBuilder(np.array(test).tolist(), test.columns.to_list()).set_estimator_and_feature_spec(regressor_model, feature_spec=feature_spec).set_target_feature('targetCol').set_model_type('regression')\n",
    "# classification\n",
    "config_builder = WitConfigBuilder(np.array(test).tolist(), test.columns.to_list()).set_estimator_and_feature_spec(classifier_model, feature_spec=feature_spec).set_target_feature('targetCol').set_label_vocab(['value0', 'value1'])\n",
    "\n",
    "WitWidget(config_builder, height=800)"
   ]
  },
  {
   "cell_type": "markdown",
   "metadata": {},
   "source": []
  }
 ],
 "metadata": {
  "language_info": {
   "name": "python"
  },
  "orig_nbformat": 4
 },
 "nbformat": 4,
 "nbformat_minor": 2
}
